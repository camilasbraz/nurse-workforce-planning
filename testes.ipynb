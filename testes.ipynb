{
 "cells": [
  {
   "cell_type": "code",
   "execution_count": 1,
   "metadata": {},
   "outputs": [],
   "source": [
    "import numpy as np\n",
    "from deap import base, creator, tools, algorithms"
   ]
  },
  {
   "cell_type": "code",
   "execution_count": 2,
   "metadata": {},
   "outputs": [],
   "source": [
    "import sys\n",
    "sys.path.append('/home/pedroubuntu/TP_CE_2024/env/lib/python3.10/site-packages')"
   ]
  },
  {
   "cell_type": "code",
   "execution_count": 3,
   "metadata": {},
   "outputs": [
    {
     "name": "stdout",
     "output_type": "stream",
     "text": [
      "418.59999999999997 0.33\n"
     ]
    }
   ],
   "source": [
    "def the_semana(pacientes, ist):\n",
    "    ''' Explicação:\n",
    "        Calcula a quantidade de horas de enfermagem necessária em uma semana de acordo com os tipos de pacientes\n",
    "        Recebe um vetor de quantidade de pacientes por tipo e um índice de segurança (ist)\n",
    "                    [PCM    PCI     PCAD    PCSI    PCIt]\n",
    "        pacientes = [40     12      5       2       0   ]\n",
    "        horas_pd  = [4      6       10      10      18  ]       \n",
    "        porc_enf  = [0,33   0,33    0,36    0,42    0,52]\n",
    "\n",
    "        - O numero de horas totais de enfermagem por semana é:\n",
    "            sum(pacientes * horas_pd)*7*IST\n",
    "        - A porcentagem de enfermeiros nessas horas é\n",
    "            porc_enf[argmax(pacientes)]\n",
    "    ''' \n",
    "    horas_pd = [4, 6, 10, 10, 18]\n",
    "    horas_semana = np.dot(horas_pd, pacientes)*7*ist\n",
    "\n",
    "    porcentagens = [0.33, 0.33, 0.36, 0.42, 0.52]\n",
    "    porc_enf = porcentagens[np.argmax(pacientes)]\n",
    "    return horas_semana, porc_enf \n",
    "\n",
    "pacientes = np.array([2, 1, 1, 1, 1])\n",
    "t1,t2 = the_semana(pacientes, 1.15)\n",
    "print(t1, t2)"
   ]
  },
  {
   "cell_type": "code",
   "execution_count": 4,
   "metadata": {},
   "outputs": [
    {
     "name": "stdout",
     "output_type": "stream",
     "text": [
      "310.43999999999994\n"
     ]
    }
   ],
   "source": [
    "def fitness_funcionarios(individuo, horas_necessarias, porcentagem_enf):\n",
    "    ''''\n",
    "    Um indivíduo tem estrutura: [n_enf8h, n_enf12h, n_tec8h, n_tec12h]\n",
    "    \n",
    "    Critérios\n",
    "    1. Somatório de horas é próximo das horas mínimas por semana\n",
    "    2. Aproximadamente x% das horas são de enfermeiros, x é definido pelo max(PACIENTES_POR_TIPO)\n",
    "    3. Aproximadamente 2/7 das horas totais são de funcionários de 12h, porque funcionários de 12h não trabalham no fim de semana\n",
    "    '''\n",
    "    # Cálculos gerais\n",
    "    cargas_horarias = np.array([44, 40, 44, 40])\n",
    "    horas_por_func = individuo * cargas_horarias\n",
    "    horas_totais = np.sum(horas_por_func)\n",
    "\n",
    "    # Critério 1: Número de horas é próximo das horas necessárias\n",
    "    penalidade_1 = np.abs(horas_necessarias - horas_totais)\n",
    "\n",
    "    # Critério 2: Porcentagem de horas de enfermeiros é próxima do necessário\n",
    "    penalidade_2 = np.abs(np.sum(horas_por_func[0:2]) - porcentagem_enf*horas_totais)\n",
    "    \n",
    "    # Critério 3: Mínimo de funcionários que trabalham 12h\n",
    "    penalidade_3 = np.abs((horas_por_func[1] + horas_por_func[3]) - 0.29 * horas_totais)\n",
    "    \n",
    "    # Combinação dos critérios em um valor de fitness\n",
    "    valor_fitness = penalidade_1 + penalidade_2 + penalidade_3 \n",
    "\n",
    "    return valor_fitness, \n",
    "\n",
    "individuo = np.array([1,1,1,1])\n",
    "fit, = fitness_funcionarios(individuo, t1, t2)\n",
    "print(fit)"
   ]
  },
  {
   "cell_type": "code",
   "execution_count": 5,
   "metadata": {},
   "outputs": [],
   "source": [
    "TAMANHO_POPULACAO = 40\n",
    "TAMANHO_GENOMA = 4\n",
    "TAXA_DE_MUTACAO = 0.05\n",
    "TAXA_DE_CROSSOVER = 0.80\n",
    "MAX_GERACOES = 1000"
   ]
  },
  {
   "cell_type": "code",
   "execution_count": 6,
   "metadata": {},
   "outputs": [],
   "source": [
    "creator.create('FitnessMin', base.Fitness, weights=(-1.0,))             # define que a fitness é de minimização  \n",
    "creator.create('Individual', list, fitness=creator.FitnessMin)          # define a estrutura de um individuo\n",
    "toolbox = base.Toolbox()        # onde são armazenados \n",
    "\n",
    "# Define o range dos valores possíveis de um individuo\n",
    "max_attr = t1 / 40      # horas_necessarias/40h (pior caso)\n",
    "toolbox.register('genes', np.random.randint, 0, max_attr + 1)    # um indivíduo so admite valores 0 a max_attr\n",
    "toolbox.register('individuo', tools.initRepeat, creator.Individual, toolbox.genes, TAMANHO_GENOMA)   # um individuo é uma lista de 4 attr_funcionario \n",
    "toolbox.register('populacao', tools.initRepeat, list, toolbox.individuo)    # uma populacao é uma lista de individuos\n",
    "\n",
    "# Operadores genéticos\n",
    "toolbox.register(\"evaluate\", fitness_funcionarios)  # funcao de aptidao\n",
    "toolbox.register(\"mate\", tools.cxTwoPoint)  # crossover\n",
    "toolbox.register(\"mutate\", tools.mutPolynomialBounded, low=0, up=max_attr, indpb=TAXA_DE_MUTACAO)   # mutação\n",
    "toolbox.register(\"select\", tools.selTournament, tournsize=3)    # seleção de pais"
   ]
  },
  {
   "cell_type": "code",
   "execution_count": null,
   "metadata": {},
   "outputs": [
    {
     "ename": "AssertionError",
     "evalue": "Assigned values have not the same length than fitness weights",
     "output_type": "error",
     "traceback": [
      "\u001b[0;31m---------------------------------------------------------------------------\u001b[0m",
      "\u001b[0;31mAssertionError\u001b[0m                            Traceback (most recent call last)",
      "\u001b[0;32m/tmp/ipykernel_40762/1749725111.py\u001b[0m in \u001b[0;36m<module>\u001b[0;34m\u001b[0m\n\u001b[1;32m     45\u001b[0m     \u001b[0;32mreturn\u001b[0m \u001b[0mpop\u001b[0m\u001b[0;34m,\u001b[0m \u001b[0mhof\u001b[0m\u001b[0;34m,\u001b[0m \u001b[0mstats\u001b[0m\u001b[0;34m,\u001b[0m \u001b[0mlogbook\u001b[0m\u001b[0;34m\u001b[0m\u001b[0;34m\u001b[0m\u001b[0m\n\u001b[1;32m     46\u001b[0m \u001b[0;34m\u001b[0m\u001b[0m\n\u001b[0;32m---> 47\u001b[0;31m \u001b[0mpop\u001b[0m\u001b[0;34m,\u001b[0m \u001b[0mhof\u001b[0m\u001b[0;34m,\u001b[0m \u001b[0mstats\u001b[0m\u001b[0;34m,\u001b[0m \u001b[0mlogbook\u001b[0m \u001b[0;34m=\u001b[0m \u001b[0mrun_genetic_algorithm\u001b[0m\u001b[0;34m(\u001b[0m\u001b[0mt1\u001b[0m\u001b[0;34m,\u001b[0m \u001b[0mt2\u001b[0m\u001b[0;34m)\u001b[0m\u001b[0;34m\u001b[0m\u001b[0;34m\u001b[0m\u001b[0m\n\u001b[0m\u001b[1;32m     48\u001b[0m \u001b[0mprint\u001b[0m\u001b[0;34m(\u001b[0m\u001b[0mpop\u001b[0m\u001b[0;34m)\u001b[0m\u001b[0;34m\u001b[0m\u001b[0;34m\u001b[0m\u001b[0m\n",
      "\u001b[0;32m/tmp/ipykernel_40762/1749725111.py\u001b[0m in \u001b[0;36mrun_genetic_algorithm\u001b[0;34m(horas_necessarias, porc_enf)\u001b[0m\n\u001b[1;32m     36\u001b[0m \u001b[0;34m\u001b[0m\u001b[0m\n\u001b[1;32m     37\u001b[0m         \u001b[0;32mfor\u001b[0m \u001b[0mfit\u001b[0m\u001b[0;34m,\u001b[0m \u001b[0mind\u001b[0m \u001b[0;32min\u001b[0m \u001b[0mzip\u001b[0m\u001b[0;34m(\u001b[0m\u001b[0mfits\u001b[0m\u001b[0;34m,\u001b[0m \u001b[0moffspring\u001b[0m\u001b[0;34m)\u001b[0m\u001b[0;34m:\u001b[0m\u001b[0;34m\u001b[0m\u001b[0;34m\u001b[0m\u001b[0m\n\u001b[0;32m---> 38\u001b[0;31m             \u001b[0mind\u001b[0m\u001b[0;34m.\u001b[0m\u001b[0mfitness\u001b[0m\u001b[0;34m.\u001b[0m\u001b[0mvalues\u001b[0m \u001b[0;34m=\u001b[0m \u001b[0mfit\u001b[0m\u001b[0;34m\u001b[0m\u001b[0;34m\u001b[0m\u001b[0m\n\u001b[0m\u001b[1;32m     39\u001b[0m \u001b[0;34m\u001b[0m\u001b[0m\n\u001b[1;32m     40\u001b[0m         \u001b[0mpop\u001b[0m \u001b[0;34m=\u001b[0m \u001b[0mtoolbox\u001b[0m\u001b[0;34m.\u001b[0m\u001b[0mselect\u001b[0m\u001b[0;34m(\u001b[0m\u001b[0moffspring\u001b[0m\u001b[0;34m,\u001b[0m \u001b[0mk\u001b[0m\u001b[0;34m=\u001b[0m\u001b[0mlen\u001b[0m\u001b[0;34m(\u001b[0m\u001b[0mpop\u001b[0m\u001b[0;34m)\u001b[0m\u001b[0;34m)\u001b[0m\u001b[0;34m\u001b[0m\u001b[0;34m\u001b[0m\u001b[0m\n",
      "\u001b[0;32m~/TP_CE_2024/env/lib/python3.10/site-packages/deap/base.py\u001b[0m in \u001b[0;36msetValues\u001b[0;34m(self, values)\u001b[0m\n\u001b[1;32m    186\u001b[0m \u001b[0;34m\u001b[0m\u001b[0m\n\u001b[1;32m    187\u001b[0m     \u001b[0;32mdef\u001b[0m \u001b[0msetValues\u001b[0m\u001b[0;34m(\u001b[0m\u001b[0mself\u001b[0m\u001b[0;34m,\u001b[0m \u001b[0mvalues\u001b[0m\u001b[0;34m)\u001b[0m\u001b[0;34m:\u001b[0m\u001b[0;34m\u001b[0m\u001b[0;34m\u001b[0m\u001b[0m\n\u001b[0;32m--> 188\u001b[0;31m         \u001b[0;32massert\u001b[0m \u001b[0mlen\u001b[0m\u001b[0;34m(\u001b[0m\u001b[0mvalues\u001b[0m\u001b[0;34m)\u001b[0m \u001b[0;34m==\u001b[0m \u001b[0mlen\u001b[0m\u001b[0;34m(\u001b[0m\u001b[0mself\u001b[0m\u001b[0;34m.\u001b[0m\u001b[0mweights\u001b[0m\u001b[0;34m)\u001b[0m\u001b[0;34m,\u001b[0m \u001b[0;34m\"Assigned values have not the same length than fitness weights\"\u001b[0m\u001b[0;34m\u001b[0m\u001b[0;34m\u001b[0m\u001b[0m\n\u001b[0m\u001b[1;32m    189\u001b[0m         \u001b[0;32mtry\u001b[0m\u001b[0;34m:\u001b[0m\u001b[0;34m\u001b[0m\u001b[0;34m\u001b[0m\u001b[0m\n\u001b[1;32m    190\u001b[0m             \u001b[0mself\u001b[0m\u001b[0;34m.\u001b[0m\u001b[0mwvalues\u001b[0m \u001b[0;34m=\u001b[0m \u001b[0mtuple\u001b[0m\u001b[0;34m(\u001b[0m\u001b[0mmap\u001b[0m\u001b[0;34m(\u001b[0m\u001b[0mmul\u001b[0m\u001b[0;34m,\u001b[0m \u001b[0mvalues\u001b[0m\u001b[0;34m,\u001b[0m \u001b[0mself\u001b[0m\u001b[0;34m.\u001b[0m\u001b[0mweights\u001b[0m\u001b[0;34m)\u001b[0m\u001b[0;34m)\u001b[0m\u001b[0;34m\u001b[0m\u001b[0;34m\u001b[0m\u001b[0m\n",
      "\u001b[0;31mAssertionError\u001b[0m: Assigned values have not the same length than fitness weights"
     ]
    }
   ],
   "source": [
    "def run_genetic_algorithm(horas_necessarias, porc_enf):\n",
    "    # Configuração do algoritmo genético usando DEAP\n",
    "    creator.create('FitnessMin', base.Fitness, weights=(-1.0,))             # define que a fitness é de minimização  \n",
    "    creator.create('Individual', np.ndarray, fitness=creator.FitnessMin)    # define que o individuo é um array np\n",
    "\n",
    "    # Define os atributos de um individuo \n",
    "    toolbox = base.Toolbox()\n",
    "    max_attr = t1 / 40      # horas_necessarias/40h (pior caso)\n",
    "    toolbox.register('attr_funcionario', np.random.randint, 0, max_attr + 1)\n",
    "    # Inicializadores de individuo e populacao\n",
    "    toolbox.register('individuo', tools.initRepeat, creator.Individual, toolbox.attr_funcionario, TAMANHO_GENOMA)\n",
    "    toolbox.register(\"population\", tools.initRepeat, list, toolbox.individuo)\n",
    "\n",
    "    def custom_fitness(individual):\n",
    "        return fitness_funcionarios(individual, horas_necessarias, porc_enf)\n",
    "\n",
    "    toolbox.register(\"mate\", tools.cxTwoPoint)\n",
    "    toolbox.register(\"mutate\", tools.mutFlipBit, indpb=TAXA_DE_MUTACAO)\n",
    "    toolbox.register(\"select\", tools.selTournament, tournsize=2 )\n",
    "    toolbox.register(\"evaluate\", custom_fitness)\n",
    "\n",
    "    pop = toolbox.population(n=TAMANHO_POPULACAO)\n",
    "    hof = tools.HallOfFame(1)\n",
    "    stats = tools.Statistics(lambda ind: ind.fitness.values)\n",
    "    stats.register(\"avg\", np.mean)\n",
    "    stats.register(\"std\", np.std)\n",
    "    stats.register(\"min\", np.min)\n",
    "    stats.register(\"max\", np.max)\n",
    "\n",
    "    logbook = tools.Logbook()\n",
    "    logbook.header = [\"gen\", \"nevals\"] + stats.fields\n",
    "\n",
    "    for gen in range(MAX_GERACOES):\n",
    "        offspring = algorithms.varAnd(pop, toolbox, cxpb=TAXA_DE_CROSSOVER, mutpb=TAXA_DE_MUTACAO)\n",
    "        fits = map(toolbox.evaluate, offspring)\n",
    "        \n",
    "        for fit, ind in zip(fits, offspring):\n",
    "            ind.fitness.values = fit\n",
    "        \n",
    "        pop = toolbox.select(offspring, k=len(pop))\n",
    "        record = stats.compile(pop)\n",
    "        logbook.record(gen=gen, nevals=len(pop), **record)\n",
    "        hof.update(pop)\n",
    "\n",
    "    return pop, hof, stats, logbook\n",
    "\n",
    "pop, hof, stats, logbook = run_genetic_algorithm(t1, t2)\n",
    "print(pop)"
   ]
  }
 ],
 "metadata": {
  "kernelspec": {
   "display_name": "Python 3",
   "language": "python",
   "name": "python3"
  },
  "language_info": {
   "codemirror_mode": {
    "name": "ipython",
    "version": 3
   },
   "file_extension": ".py",
   "mimetype": "text/x-python",
   "name": "python",
   "nbconvert_exporter": "python",
   "pygments_lexer": "ipython3",
   "version": "3.10.12"
  }
 },
 "nbformat": 4,
 "nbformat_minor": 2
}
